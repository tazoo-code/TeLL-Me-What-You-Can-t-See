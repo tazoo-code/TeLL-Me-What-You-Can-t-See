{
 "cells": [
  {
   "cell_type": "markdown",
   "metadata": {
    "id": "NdYW0eKzVvyR"
   },
   "source": [
    "# Metric computation\n"
   ]
  },
  {
   "cell_type": "code",
   "execution_count": 1,
   "metadata": {
    "executionInfo": {
     "elapsed": 589,
     "status": "ok",
     "timestamp": 1716565983549,
     "user": {
      "displayName": "Pietro Biasetton",
      "userId": "08005884135838821221"
     },
     "user_tz": -120
    },
    "id": "Ld92YnerlarC"
   },
   "outputs": [],
   "source": [
    "import numpy as np\n",
    "import pandas as pd\n",
    "import numbers"
   ]
  },
  {
   "cell_type": "code",
   "execution_count": 2,
   "metadata": {
    "executionInfo": {
     "elapsed": 4,
     "status": "ok",
     "timestamp": 1716565983549,
     "user": {
      "displayName": "Pietro Biasetton",
      "userId": "08005884135838821221"
     },
     "user_tz": -120
    },
    "id": "pCm1VkrNmDF1"
   },
   "outputs": [],
   "source": [
    "# helper function to create the DataFrame from csv\n",
    "# empty values are represented as empty strings\n",
    "def build_df(filename):\n",
    "  return pd.read_csv(filename,na_filter=False)"
   ]
  },
  {
   "cell_type": "code",
   "execution_count": 3,
   "metadata": {
    "executionInfo": {
     "elapsed": 3,
     "status": "ok",
     "timestamp": 1716565983549,
     "user": {
      "displayName": "Pietro Biasetton",
      "userId": "08005884135838821221"
     },
     "user_tz": -120
    },
    "id": "7oq_YqgFahFR"
   },
   "outputs": [],
   "source": [
    "# apply the same filename between source and prediction\n",
    "def convert_filename(filename):\n",
    "  split = filename.split(\"_\")\n",
    "  name = split[len(split)-1]\n",
    "  return name.split(\".\")[0]\n",
    "\n",
    "\n",
    "# helper function to transform height from string to float\n",
    "def convert_height(height):\n",
    "  # return NaN if value is missing\n",
    "  if(height==''):\n",
    "    return np.NaN\n",
    "\n",
    "  # convert outputs with 'feet' or 'foot'\n",
    "  elif('feet' in height):\n",
    "    feet = height.split('feet')[0]\n",
    "    return float(feet)\n",
    "  elif('foot' in height):\n",
    "    feet = height.split('foot')[0]\n",
    "    return float(feet)\n",
    "\n",
    "  # convert if the unit of measurement is present\n",
    "  elif(\"'\" in height):\n",
    "  # divide feet from inches\n",
    "    split = height.split(\"'\")\n",
    "    feet = split[0]\n",
    "    inch = split[1].split('\"')[0]\n",
    "    return float(feet) + float(inch)/12\n",
    "\n",
    "  # return NaN otherwise\n",
    "  else:\n",
    "    return np.NaN\n",
    "\n",
    "# helper function to transform age from string to float\n",
    "def convert_age(age):\n",
    "  if(age==''):\n",
    "    return np.NaN\n",
    "  return float(age)\n",
    "\n",
    "\n",
    "# helper function to transform weight from string to float\n",
    "def convert_weight(weight):\n",
    "  # return NaN if value is missing\n",
    "  if(weight==''):\n",
    "    return np.NaN\n",
    "  elif('pounds' in weight):\n",
    "    pounds = weight.split('pounds')[0]\n",
    "    return float(pounds)\n",
    "  else:\n",
    "    return float(weight)"
   ]
  },
  {
   "cell_type": "code",
   "execution_count": 4,
   "metadata": {
    "executionInfo": {
     "elapsed": 3,
     "status": "ok",
     "timestamp": 1716565983549,
     "user": {
      "displayName": "Pietro Biasetton",
      "userId": "08005884135838821221"
     },
     "user_tz": -120
    },
    "id": "X0KZRtjmOAn3"
   },
   "outputs": [],
   "source": [
    "# helper function for data preprocessing\n",
    "def preprocess_df(df):\n",
    "\n",
    "  # iterate over object type columns\n",
    "  str_columns = df.select_dtypes(include=object).columns.tolist()\n",
    "\n",
    "  for col in str_columns:\n",
    "    # leave filename column unchanged\n",
    "    if(col=='filename'):\n",
    "      df[col] = df[col].apply(convert_filename)\n",
    "      df[col] = df[col].astype('string')\n",
    "\n",
    "    # represent height as float\n",
    "    elif(col=='height'):\n",
    "      df[col] = df[col].apply(convert_height)\n",
    "\n",
    "    # represent weight as float\n",
    "    elif(col=='weight'):\n",
    "      df[col]=df[col].apply(convert_weight)\n",
    "\n",
    "    elif(col=='age'):\n",
    "      df[col]=df[col].apply(convert_weight)\n",
    "\n",
    "    # consider the other columns as string\n",
    "    else:\n",
    "      # string to lower case\n",
    "      df[col] = df[col].apply(str.lower)\n",
    "      # remove initial or ending dots\n",
    "      df[col] = df[col].apply(str.strip, args=('.'))\n",
    "      # Remove similiar ethnicities\n",
    "      if(col=='ethnical group'):\n",
    "        df[col] = df[col].replace('mexican', 'hispanic')\n",
    "        df[col] = df[col].replace('latino', 'hispanic')\n",
    "        df[col] = df[col].replace('latina', 'hispanic')\n",
    "        df[col] = df[col].replace('caucasian', 'white')\n",
    "      # change column to string type\n",
    "      df[col] = df[col].astype('string')\n",
    "  return df"
   ]
  },
  {
   "cell_type": "code",
   "execution_count": 5,
   "metadata": {
    "executionInfo": {
     "elapsed": 3,
     "status": "ok",
     "timestamp": 1716565983549,
     "user": {
      "displayName": "Pietro Biasetton",
      "userId": "08005884135838821221"
     },
     "user_tz": -120
    },
    "id": "iihASTbZr7Mc"
   },
   "outputs": [],
   "source": [
    "# helper function to extract the row of the dataframe with the specified value as filename\n",
    "def get_row(df, filename):\n",
    "  return df.loc[df['filename']==filename]\n",
    "\n",
    "# helper function to compare a string with a group of string\n",
    "# it returns 0 if pred is equal to src,\n",
    "# 0.5 if they belong to the same group, 1 otherwise\n",
    "def compare_groups(src, pred, groups):\n",
    "  if src == pred:\n",
    "    return 0\n",
    "\n",
    "  for group in groups:\n",
    "    if(src in group and pred in group):\n",
    "      return 0.5\n",
    "\n",
    "  return 1\n",
    "\n",
    "# helper function to compare the ethnic groups,\n",
    "# using some predefined groups for a discounted error\n",
    "def compare_ethnicity(src, pred):\n",
    "  groups = [\n",
    "      ['african american', 'african', 'aboriginal'],\n",
    "      ['white', 'hispanic'],\n",
    "      ['hispanic', 'arab'],\n",
    "      ['hispanic', 'indian']\n",
    "  ]\n",
    "\n",
    "  return compare_groups(src, pred, groups)\n",
    "\n",
    "# helper function to compare the hair colors,\n",
    "# using some predefined groups for a discounted error\n",
    "def compare_hair(src, pred):\n",
    "  groups = [\n",
    "      ['black', 'brown'],\n",
    "      ['blonde', 'light brown'],\n",
    "      ['brown', 'light brown']\n",
    "  ]\n",
    "  return compare_groups(src, pred, groups)\n",
    "\n",
    "# helper function to compare the iris colors,\n",
    "# using some predefined groups for a discounted error\n",
    "def compare_iris(src, pred):\n",
    "  groups = [\n",
    "      ['black', 'brown'],\n",
    "      ['blue', 'green'],\n",
    "      ['green', 'brown']\n",
    "  ]\n",
    "  return compare_groups(src, pred, groups)\n",
    "\n",
    "# helper function to compare numeric type data,\n",
    "# it returns 0 if the error is lower than tolerance (threshold/4),\n",
    "# it returns 1 if the error is greater than threshold,\n",
    "# otherwise the penalty is between 0 and 1, scaled by the error\n",
    "def compare_numerics(src, pred, threshold):\n",
    "  tolerance = threshold/4\n",
    "  error = abs(src-pred)\n",
    "  if error<tolerance:\n",
    "    return 0\n",
    "  elif error>threshold:\n",
    "    return 1\n",
    "  else:\n",
    "    return (error-tolerance)/(threshold-tolerance)"
   ]
  },
  {
   "cell_type": "code",
   "execution_count": 6,
   "metadata": {
    "executionInfo": {
     "elapsed": 3,
     "status": "ok",
     "timestamp": 1716565983549,
     "user": {
      "displayName": "Pietro Biasetton",
      "userId": "08005884135838821221"
     },
     "user_tz": -120
    },
    "id": "ToX7wjvHZLJQ"
   },
   "outputs": [],
   "source": [
    "# compute the metric for one person\n",
    "def metric(src, pred, thresholds):\n",
    "  score = []\n",
    "  for col in src.columns:\n",
    "    # extract the value for the current column\n",
    "    src_value = src[col].reset_index(drop=True)[0]\n",
    "    pred_value = pred[col].reset_index(drop=True)[0]\n",
    "\n",
    "    # TODO for debug\n",
    "    #print(f\"\\tcolumn {col}\\t real:{src_value} \\t predicted:{pred_value}\")\n",
    "\n",
    "    # skip computation if the original/  ((predicted))   value is NaN or empty string (missing), or if it is the filename column\n",
    "    if(pd.isna(src_value) or src_value=='' or col=='filename'):# or pd.isna(pred_value)):\n",
    "      continue\n",
    "\n",
    "    elif(pd.isna(pred_value)):\n",
    "      score.append(1)\n",
    "\n",
    "    # metric for numeric types (age, height, weight)\n",
    "    elif(isinstance(src_value, numbers.Number)):\n",
    "      score.append(compare_numerics(src_value, pred_value, thresholds[col]))\n",
    "\n",
    "    # metric for string types (gender, ethnical group, hair color, iris color)\n",
    "    elif(isinstance(src_value, str)):\n",
    "      # metric for ethnicity\n",
    "      if(col=='ethnical group'):\n",
    "        score.append(compare_ethnicity(src_value, pred_value))\n",
    "      elif(col=='hair color'):\n",
    "        score.append(compare_hair(src_value, pred_value))\n",
    "      elif(col=='iris color'):\n",
    "        score.append(compare_iris(src_value, pred_value))\n",
    "      else:\n",
    "        score.append(0 if src_value==pred_value else 1)\n",
    "\n",
    "  # compute and return the final score\n",
    "  arr = np.asarray(score)\n",
    "  return np.average(arr)"
   ]
  },
  {
   "cell_type": "code",
   "execution_count": 7,
   "metadata": {
    "executionInfo": {
     "elapsed": 4,
     "status": "ok",
     "timestamp": 1716565983550,
     "user": {
      "displayName": "Pietro Biasetton",
      "userId": "08005884135838821221"
     },
     "user_tz": -120
    },
    "id": "st9aa-F-2kk_"
   },
   "outputs": [],
   "source": [
    "# compute the metric for each row\n",
    "# it returns a dataframe containing the score of each subject\n",
    "def compute_metric(src_df, pred_df, thresholds, transform=None):\n",
    "  assert len(src_df)==len(pred_df), 'src and pred must have the same number of rows.'\n",
    "  results = []\n",
    "  filenames = []\n",
    "\n",
    "  # iterate over all rows\n",
    "  for src_filename in src_df['filename']:\n",
    "    # src_row and pred_row contain the original and predicted data for the current person\n",
    "    src_row = get_row(src_df, src_filename)\n",
    "    pred_row = get_row(pred_df, src_filename)\n",
    "\n",
    "    filenames.append(src_filename)\n",
    "    # compute the metric for each subject\n",
    "    score = metric(src_row, pred_row, thresholds)\n",
    "    results.append(score)\n",
    "\n",
    "  # transform the scores in percentage of accuracy\n",
    "  results = list(map(lambda a: (1-a)*100, results))\n",
    "  if(transform is None):\n",
    "    return pd.DataFrame({'filename' : filenames, 'score' : results})\n",
    "  else:\n",
    "    score_name = f\"score_{transform}\"\n",
    "    return pd.DataFrame({'filename' : filenames, score_name : results})"
   ]
  },
  {
   "cell_type": "code",
   "execution_count": 8,
   "metadata": {
    "executionInfo": {
     "elapsed": 3,
     "status": "ok",
     "timestamp": 1716565983550,
     "user": {
      "displayName": "Pietro Biasetton",
      "userId": "08005884135838821221"
     },
     "user_tz": -120
    },
    "id": "CuvpKixe-T6g"
   },
   "outputs": [],
   "source": [
    "# it creates a pandas dataframe to bind the results of the model\n",
    "def bind_results(results_list):\n",
    "  result = results_list[0]\n",
    "\n",
    "  for i in results_list[1:]:\n",
    "    result = pd.merge(result, i, on='filename')\n",
    "\n",
    "  return result"
   ]
  },
  {
   "cell_type": "code",
   "execution_count": 9,
   "metadata": {
    "executionInfo": {
     "elapsed": 3,
     "status": "ok",
     "timestamp": 1716565983550,
     "user": {
      "displayName": "Pietro Biasetton",
      "userId": "08005884135838821221"
     },
     "user_tz": -120
    },
    "id": "a3scYSXCtX-O"
   },
   "outputs": [],
   "source": [
    "thresholds = {'age': 20, # max error 20 years\n",
    "              'height': 2.5, # max error 2.5 feet\n",
    "              'weight': 50 # max error 50 pounds\n",
    "}"
   ]
  },
  {
   "cell_type": "code",
   "execution_count": null,
   "metadata": {
    "executionInfo": {
     "elapsed": 3,
     "status": "ok",
     "timestamp": 1716565983550,
     "user": {
      "displayName": "Pietro Biasetton",
      "userId": "08005884135838821221"
     },
     "user_tz": -120
    },
    "id": "CnBpFDvGH9oS"
   },
   "outputs": [],
   "source": [
    "truth_filename = \"./ground_truth.csv\"\n",
    "truth = build_df(truth_filename)\n",
    "truth = preprocess_df(truth)\n",
    "cols = truth.columns"
   ]
  },
  {
   "cell_type": "code",
   "execution_count": null,
   "metadata": {
    "executionInfo": {
     "elapsed": 279,
     "status": "ok",
     "timestamp": 1716565983826,
     "user": {
      "displayName": "Pietro Biasetton",
      "userId": "08005884135838821221"
     },
     "user_tz": -120
    },
    "id": "oS9FvfrJty98"
   },
   "outputs": [],
   "source": [
    "original_filename = 'results_original'\n",
    "maxim_filename = 'results_maxim'\n",
    "srgan_filename = 'results_srgan'\n",
    "total_filename = 'results_tvdenoise'\n",
    "\n",
    "models = ['tinyllava', 'qwen']\n",
    "\n",
    "# preprocess dataframes and compute the metrics for one model\n",
    "def get_results(model, truth):\n",
    "  original = build_df(f\"./{model}_results/{original_filename}_{model}.csv\")\n",
    "  original = preprocess_df(original)\n",
    "\n",
    "  maxim = build_df(f\"./{model}_results/{maxim_filename}_{model}.csv\")\n",
    "  maxim = preprocess_df(maxim)\n",
    "\n",
    "  srgan = build_df(f\"./{model}_results/{srgan_filename}_{model}.csv\")\n",
    "  srgan = preprocess_df(srgan)\n",
    "\n",
    "  total = build_df(f\"./{model}_results/{total_filename}_{model}.csv\")\n",
    "  total = preprocess_df(total)\n",
    "  res_original = compute_metric(truth, original, thresholds, 'original')\n",
    "  res_maxim = compute_metric(truth, maxim, thresholds, 'maxim')\n",
    "  res_srgan = compute_metric(truth, srgan, thresholds, 'srgan')\n",
    "  res_total = compute_metric(truth, total, thresholds, 'total')\n",
    "\n",
    "  return bind_results([res_original, res_maxim, res_srgan, res_total])"
   ]
  },
  {
   "cell_type": "code",
   "execution_count": 15,
   "metadata": {
    "executionInfo": {
     "elapsed": 1,
     "status": "ok",
     "timestamp": 1716565983826,
     "user": {
      "displayName": "Pietro Biasetton",
      "userId": "08005884135838821221"
     },
     "user_tz": -120
    },
    "id": "5ymIgslWqTq-"
   },
   "outputs": [],
   "source": [
    "# function to print the means for the methods\n",
    "def print_means(results):\n",
    "  for i in results.columns:\n",
    "    if i == 'filename':\n",
    "      continue\n",
    "    print(f\"{i}: {results[i].mean()}\")"
   ]
  },
  {
   "cell_type": "code",
   "execution_count": 16,
   "metadata": {
    "executionInfo": {
     "elapsed": 1378,
     "status": "ok",
     "timestamp": 1716565985203,
     "user": {
      "displayName": "Pietro Biasetton",
      "userId": "08005884135838821221"
     },
     "user_tz": -120
    },
    "id": "BDY6fgMjJ5RT"
   },
   "outputs": [],
   "source": [
    "res_tinyllava = get_results('tinyllava', truth)\n",
    "res_qwen = get_results('qwen', truth)"
   ]
  }
 ],
 "metadata": {
  "colab": {
   "provenance": []
  },
  "kernelspec": {
   "display_name": "base",
   "language": "python",
   "name": "python3"
  },
  "language_info": {
   "codemirror_mode": {
    "name": "ipython",
    "version": 3
   },
   "file_extension": ".py",
   "mimetype": "text/x-python",
   "name": "python",
   "nbconvert_exporter": "python",
   "pygments_lexer": "ipython3",
   "version": "3.11.7"
  }
 },
 "nbformat": 4,
 "nbformat_minor": 0
}
