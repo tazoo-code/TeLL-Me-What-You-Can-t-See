{
  "cells": [
    {
      "cell_type": "code",
      "execution_count": null,
      "metadata": {
        "id": "XbpJvCfZchph"
      },
      "outputs": [],
      "source": [
        "import pandas as pd\n",
        "import numpy as np\n",
        "from sklearn.metrics import ConfusionMatrixDisplay\n",
        "import matplotlib.pyplot as plt"
      ]
    },
    {
      "cell_type": "code",
      "execution_count": null,
      "metadata": {
        "id": "WIxpZi_flgdc"
      },
      "outputs": [],
      "source": [
        "def plot_cm(csv, cmap, selected_cols=None):\n",
        "  df = pd.read_csv(csv,index_col=['Generated image'])\n",
        "  df.index = df.index.str.replace(r'\\d+|\\.(png|jpeg|jpg)', '', regex=True)\n",
        "  df.columns = df.columns.str.replace(r'\\d+|\\.(png|jpeg|jpg)', '', regex=True)\n",
        "\n",
        "  df = df.loc[sorted(df.index, key=str.lower)]\n",
        "  df = df[sorted(df.columns, key=str.lower)]\n",
        "  df.columns = df.index\n",
        "\n",
        "  if selected_cols is not None:\n",
        "    df = df.loc[selected_cols,selected_cols]\n",
        "  labels = df.columns\n",
        "\n",
        "  try:\n",
        "    df = df.to_numpy(dtype=np.float32)\n",
        "  except ValueError:\n",
        "    df = df.map(lambda x: x.split(' ')[1])\n",
        "    df = df.to_numpy(dtype=np.float32)\n",
        "\n",
        "\n",
        "  fig, ax = plt.subplots(figsize=(1.3*len(labels),1.3*len(labels)))\n",
        "  disp = ConfusionMatrixDisplay(confusion_matrix=df, display_labels=labels)\n",
        "  disp.plot(ax=ax,colorbar=False,xticks_rotation='vertical',cmap=cmap,values_format='.2f')\n",
        "  disp.ax_.set_xlabel('Generated images',size=18)\n",
        "  disp.ax_.set_ylabel('Real images',size=18)\n",
        "  ax.tick_params(axis='both', which='major', labelsize=18)\n",
        "  for text in disp.text_.ravel():\n",
        "    text.set_fontsize(18)\n",
        "  # disp.ax_.set_xticklabels(x_labels)\n",
        "  plt.tight_layout()\n",
        "  out_name = csv.replace('.csv','')\n",
        "  plt.savefig(f\"{out_name}.pdf\")\n",
        "\n",
        "def compute_stats(csv, selected_cols=None):\n",
        "  df = pd.read_csv(csv,index_col=['Generated image'])\n",
        "  df.index = df.index.str.replace(r'\\d+|\\.(png|jpeg|jpg)', '', regex=True)\n",
        "  df.columns = df.columns.str.replace(r'\\d+|\\.(png|jpeg|jpg)', '', regex=True)\n",
        "\n",
        "  df = df.loc[sorted(df.index, key=str.lower)]\n",
        "  df = df[sorted(df.columns, key=str.lower)]\n",
        "  df.columns = df.index\n",
        "\n",
        "  if selected_cols is not None:\n",
        "    df = df.loc[selected_cols,selected_cols]\n",
        "  labels = df.columns\n",
        "\n",
        "  try:\n",
        "    values = df.to_numpy(dtype=np.float32)\n",
        "  except ValueError:\n",
        "    df = df.map(lambda x: x.split(' ')[1])\n",
        "    values = df.to_numpy(dtype=np.float32)\n",
        "\n",
        "  diagonal = np.diag(values)\n",
        "  off_diagonal = values[~np.eye(values.shape[0], dtype=bool)]\n",
        "\n",
        "  stats = {\n",
        "      # Diagonal (same-class) statistics\n",
        "        'Same-class Mean': diagonal.mean(),\n",
        "        'Same-class Std': diagonal.std(),\n",
        "        'Same-class Min': diagonal.min(),\n",
        "        'Same-class Max': diagonal.max(),\n",
        "\n",
        "      # Off-diagonal (different-class) statistics\n",
        "        'Diff-class Mean': off_diagonal.mean(),\n",
        "        'Diff-class Std': off_diagonal.std(),\n",
        "        'Diff-class Min': off_diagonal.min(),\n",
        "        'Diff-class Max': off_diagonal.max(),\n",
        "\n",
        "      # Key separation metrics\n",
        "        'Separation Ratio': diagonal.mean() / off_diagonal.mean() if off_diagonal.mean() != 0 else np.inf,\n",
        "        'Separation Gap': diagonal.mean() - off_diagonal.mean(),\n",
        "  }\n",
        "\n",
        "  return stats"
      ]
    },
    {
      "cell_type": "markdown",
      "metadata": {
        "id": "E5QEICVXNuc6"
      },
      "source": [
        "# Original"
      ]
    },
    {
      "cell_type": "code",
      "execution_count": null,
      "metadata": {
        "id": "VdtjgA8XT6vU"
      },
      "outputs": [],
      "source": [
        "selected_cols =  ['AdriannaMelendez', 'BirdalOsman', 'CarisAyala', 'DonaldField', 'EvelynGuzman', 'FranzDieuDonne', 'FuQiang', 'GeorgeMason', 'GeorgeWright', 'JuanaRojo', 'LoriPaige', 'MadalinaCojocari', 'MonicaWitt', 'ParkJinHyok', 'RobertFisher', 'RujaIgnatova', 'StanleyObas', 'WangLin', 'WeiLiPang', 'WendyRios']"
      ]
    },
    {
      "cell_type": "code",
      "execution_count": null,
      "metadata": {
        "colab": {
          "base_uri": "https://localhost:8080/",
          "height": 1000
        },
        "id": "VPv4qhv0SmM8",
        "outputId": "e9fd4bac-1daa-429e-a6be-2c023eba89c8"
      },
      "outputs": [],
      "source": [
        "filename = './csv_files/original__vs__generated_from_original_recognito.csv'\n",
        "values = plot_cm(filename, cmap='Blues', selected_cols=selected_cols)\n",
        "compute_stats(filename, selected_cols=None)"
      ]
    },
    {
      "cell_type": "code",
      "execution_count": null,
      "metadata": {
        "colab": {
          "base_uri": "https://localhost:8080/",
          "height": 1000
        },
        "id": "JWTbKO1JlgbI",
        "outputId": "39f49290-8492-4d63-e675-192a1d1bf5f4"
      },
      "outputs": [],
      "source": [
        "filename = './csv_files/original__vs__generated_from_original_deepface.csv'\n",
        "values = plot_cm(filename, cmap='Blues_r', selected_cols=selected_cols)\n",
        "compute_stats(filename, selected_cols=None)"
      ]
    },
    {
      "cell_type": "markdown",
      "metadata": {
        "id": "cl-eE3scNuJl"
      },
      "source": [
        "# Original + generated"
      ]
    },
    {
      "cell_type": "code",
      "execution_count": null,
      "metadata": {
        "colab": {
          "base_uri": "https://localhost:8080/",
          "height": 1000
        },
        "id": "uzx7aCzDS6gO",
        "outputId": "e477c8ae-72ff-4730-8062-59074c691f75"
      },
      "outputs": [],
      "source": [
        "filename = './csv_files/original__vs__generated_from_or+gen_recognito.csv'\n",
        "values = plot_cm(filename, cmap='Blues', selected_cols=selected_cols)\n",
        "compute_stats(filename, selected_cols=None)"
      ]
    },
    {
      "cell_type": "code",
      "execution_count": null,
      "metadata": {
        "colab": {
          "base_uri": "https://localhost:8080/",
          "height": 1000
        },
        "id": "Q6nrxPBSlgZD",
        "outputId": "459bdf5c-89ad-4c5e-99f8-87360da56016"
      },
      "outputs": [],
      "source": [
        "filename = './csv_files/original__vs__generated_from_or+gen_deepface.csv'\n",
        "values = plot_cm(filename, cmap='Blues_r', selected_cols=selected_cols)\n",
        "compute_stats(filename, selected_cols=None)"
      ]
    }
  ],
  "metadata": {
    "colab": {
      "provenance": []
    },
    "kernelspec": {
      "display_name": "Python 3",
      "name": "python3"
    },
    "language_info": {
      "name": "python"
    }
  },
  "nbformat": 4,
  "nbformat_minor": 0
}
